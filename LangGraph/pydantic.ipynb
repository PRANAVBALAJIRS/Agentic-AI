{
 "cells": [
  {
   "cell_type": "markdown",
   "id": "e0180e72",
   "metadata": {},
   "source": [
    "### CREATING AND USING MODELS"
   ]
  },
  {
   "cell_type": "code",
   "execution_count": 7,
   "id": "13dc3581",
   "metadata": {},
   "outputs": [
    {
     "name": "stdout",
     "output_type": "stream",
     "text": [
      "Person1(name='PBRS', age=21, city='Chennai')\n",
      "Person1(name='RSPB', age='Thirty-Five', city=2003)\n"
     ]
    }
   ],
   "source": [
    "# Normal\n",
    "from dataclasses import dataclass\n",
    "\n",
    "@dataclass\n",
    "class Person1():\n",
    "    name: str\n",
    "    age: int\n",
    "    city: str\n",
    "\n",
    "person1 = Person1(name=\"PBRS\", age=21, city=\"Chennai\")\n",
    "print(person1)\n",
    "\n",
    "person2 =Person1(name=\"RSPB\", age=\"Thirty-Five\", city=2003)\n",
    "print(person2)"
   ]
  },
  {
   "cell_type": "code",
   "execution_count": 6,
   "id": "56285904",
   "metadata": {},
   "outputs": [
    {
     "ename": "ValidationError",
     "evalue": "1 validation error for Person\ncity\n  Input should be a valid string [type=string_type, input_value=2003, input_type=int]\n    For further information visit https://errors.pydantic.dev/2.11/v/string_type",
     "output_type": "error",
     "traceback": [
      "\u001b[1;31m---------------------------------------------------------------------------\u001b[0m",
      "\u001b[1;31mValidationError\u001b[0m                           Traceback (most recent call last)",
      "Cell \u001b[1;32mIn[6], line 9\u001b[0m\n\u001b[0;32m      6\u001b[0m     age: \u001b[38;5;28mint\u001b[39m\n\u001b[0;32m      7\u001b[0m     city: \u001b[38;5;28mstr\u001b[39m\n\u001b[1;32m----> 9\u001b[0m person \u001b[38;5;241m=\u001b[39m \u001b[43mPerson\u001b[49m\u001b[43m(\u001b[49m\u001b[43mname\u001b[49m\u001b[38;5;241;43m=\u001b[39;49m\u001b[38;5;124;43m\"\u001b[39;49m\u001b[38;5;124;43mPBRS\u001b[39;49m\u001b[38;5;124;43m\"\u001b[39;49m\u001b[43m,\u001b[49m\u001b[43m \u001b[49m\u001b[43mage\u001b[49m\u001b[38;5;241;43m=\u001b[39;49m\u001b[38;5;241;43m35\u001b[39;49m\u001b[43m,\u001b[49m\u001b[43m \u001b[49m\u001b[43mcity\u001b[49m\u001b[38;5;241;43m=\u001b[39;49m\u001b[38;5;241;43m2003\u001b[39;49m\u001b[43m)\u001b[49m\n\u001b[0;32m     10\u001b[0m \u001b[38;5;28mprint\u001b[39m(person)\n",
      "File \u001b[1;32mc:\\Users\\prana\\anaconda3\\envs\\test\\lib\\site-packages\\pydantic\\main.py:253\u001b[0m, in \u001b[0;36mBaseModel.__init__\u001b[1;34m(self, **data)\u001b[0m\n\u001b[0;32m    251\u001b[0m \u001b[38;5;66;03m# `__tracebackhide__` tells pytest and some other tools to omit this function from tracebacks\u001b[39;00m\n\u001b[0;32m    252\u001b[0m __tracebackhide__ \u001b[38;5;241m=\u001b[39m \u001b[38;5;28;01mTrue\u001b[39;00m\n\u001b[1;32m--> 253\u001b[0m validated_self \u001b[38;5;241m=\u001b[39m \u001b[38;5;28;43mself\u001b[39;49m\u001b[38;5;241;43m.\u001b[39;49m\u001b[43m__pydantic_validator__\u001b[49m\u001b[38;5;241;43m.\u001b[39;49m\u001b[43mvalidate_python\u001b[49m\u001b[43m(\u001b[49m\u001b[43mdata\u001b[49m\u001b[43m,\u001b[49m\u001b[43m \u001b[49m\u001b[43mself_instance\u001b[49m\u001b[38;5;241;43m=\u001b[39;49m\u001b[38;5;28;43mself\u001b[39;49m\u001b[43m)\u001b[49m\n\u001b[0;32m    254\u001b[0m \u001b[38;5;28;01mif\u001b[39;00m \u001b[38;5;28mself\u001b[39m \u001b[38;5;129;01mis\u001b[39;00m \u001b[38;5;129;01mnot\u001b[39;00m validated_self:\n\u001b[0;32m    255\u001b[0m     warnings\u001b[38;5;241m.\u001b[39mwarn(\n\u001b[0;32m    256\u001b[0m         \u001b[38;5;124m'\u001b[39m\u001b[38;5;124mA custom validator is returning a value other than `self`.\u001b[39m\u001b[38;5;130;01m\\n\u001b[39;00m\u001b[38;5;124m'\u001b[39m\n\u001b[0;32m    257\u001b[0m         \u001b[38;5;124m\"\u001b[39m\u001b[38;5;124mReturning anything other than `self` from a top level model validator isn\u001b[39m\u001b[38;5;124m'\u001b[39m\u001b[38;5;124mt supported when validating via `__init__`.\u001b[39m\u001b[38;5;130;01m\\n\u001b[39;00m\u001b[38;5;124m\"\u001b[39m\n\u001b[0;32m    258\u001b[0m         \u001b[38;5;124m'\u001b[39m\u001b[38;5;124mSee the `model_validator` docs (https://docs.pydantic.dev/latest/concepts/validators/#model-validators) for more details.\u001b[39m\u001b[38;5;124m'\u001b[39m,\n\u001b[0;32m    259\u001b[0m         stacklevel\u001b[38;5;241m=\u001b[39m\u001b[38;5;241m2\u001b[39m,\n\u001b[0;32m    260\u001b[0m     )\n",
      "\u001b[1;31mValidationError\u001b[0m: 1 validation error for Person\ncity\n  Input should be a valid string [type=string_type, input_value=2003, input_type=int]\n    For further information visit https://errors.pydantic.dev/2.11/v/string_type"
     ]
    }
   ],
   "source": [
    "# using Basemodel\n",
    "from pydantic import BaseModel\n",
    "\n",
    "class Person(BaseModel):\n",
    "    name: str\n",
    "    age: int\n",
    "    city: str\n",
    "\n",
    "person = Person(name=\"PBRS\", age=35, city=2003)\n",
    "print(person)"
   ]
  },
  {
   "cell_type": "code",
   "execution_count": 8,
   "id": "380c9952",
   "metadata": {},
   "outputs": [
    {
     "name": "stdout",
     "output_type": "stream",
     "text": [
      "name='PBRS' age=35 city='Chennai'\n"
     ]
    }
   ],
   "source": [
    "person = Person(name=\"PBRS\", age=35, city=\"Chennai\")\n",
    "print(person)"
   ]
  },
  {
   "cell_type": "markdown",
   "id": "dc58499b",
   "metadata": {},
   "source": [
    "### OPTIONAL FIELDS"
   ]
  },
  {
   "cell_type": "code",
   "execution_count": 15,
   "id": "00816736",
   "metadata": {},
   "outputs": [
    {
     "name": "stdout",
     "output_type": "stream",
     "text": [
      "id=1 name='PBRS' department='CSE' salary=None is_action=True\n"
     ]
    }
   ],
   "source": [
    "from typing import Optional\n",
    "\n",
    "class Employee(BaseModel):\n",
    "    id: int\n",
    "    name: str\n",
    "    department: str\n",
    "    salary: Optional[float] = None\n",
    "    is_action: Optional[bool] = True\n",
    "\n",
    "employee = Employee(id=1, name=\"PBRS\", department=\"CSE\")\n",
    "print(employee)\n"
   ]
  },
  {
   "cell_type": "code",
   "execution_count": 16,
   "id": "48113f16",
   "metadata": {},
   "outputs": [
    {
     "name": "stdout",
     "output_type": "stream",
     "text": [
      "id=1 name='PBRS' department='CSE' salary=75000.0 is_action=False\n"
     ]
    }
   ],
   "source": [
    "# Automatic type casting (eg: salary)\n",
    "employee = Employee(id=1, name=\"PBRS\", department=\"CSE\", salary=75000, is_action=False)\n",
    "print(employee)"
   ]
  },
  {
   "cell_type": "markdown",
   "id": "fab5d951",
   "metadata": {},
   "source": [
    "### Using Lists"
   ]
  },
  {
   "cell_type": "code",
   "execution_count": 17,
   "id": "d128d3be",
   "metadata": {},
   "outputs": [],
   "source": [
    "from pydantic import BaseModel\n",
    "from typing import List\n",
    "\n",
    "class Classroom(BaseModel):\n",
    "    room_number: str\n",
    "    students: List[str]\n",
    "    capacity: int"
   ]
  },
  {
   "cell_type": "code",
   "execution_count": null,
   "id": "3d0e400c",
   "metadata": {},
   "outputs": [
    {
     "name": "stdout",
     "output_type": "stream",
     "text": [
      "room_number='AB2-208' students=['Pranav', 'Aravindhan', 'Rohan'] capacity=30\n"
     ]
    }
   ],
   "source": [
    "# Even if the students is tuple or dict, typecasting will happen\n",
    "classroom = Classroom(\n",
    "    room_number=\"AB2-208\",\n",
    "    students=[\"Pranav\", \"Aravindhan\", \"Rohan\"],\n",
    "    capacity = 30\n",
    ")\n",
    "\n",
    "print(classroom)"
   ]
  },
  {
   "cell_type": "code",
   "execution_count": 20,
   "id": "06d786e7",
   "metadata": {},
   "outputs": [
    {
     "name": "stdout",
     "output_type": "stream",
     "text": [
      "1 validation error for Classroom\n",
      "students.1\n",
      "  Input should be a valid string [type=string_type, input_value=123, input_type=int]\n",
      "    For further information visit https://errors.pydantic.dev/2.11/v/string_type\n"
     ]
    }
   ],
   "source": [
    "try:\n",
    "    invalid_val = Classroom(room_number=\"AB3-301\", students=[\"goku\", 123], capacity=30)\n",
    "except ValueError as e:\n",
    "    print(e)\n"
   ]
  },
  {
   "cell_type": "markdown",
   "id": "145322b9",
   "metadata": {},
   "source": [
    "### MODEL WITH NESTED MODELS"
   ]
  },
  {
   "cell_type": "code",
   "execution_count": 24,
   "id": "4a7f090c",
   "metadata": {},
   "outputs": [
    {
     "name": "stdout",
     "output_type": "stream",
     "text": [
      "customer_id=1 name='Emma' address=Address(street='123 Main Str', city='Chennai', zip_code=600001)\n"
     ]
    }
   ],
   "source": [
    "from pydantic import BaseModel\n",
    "\n",
    "class Address(BaseModel):\n",
    "    street: str\n",
    "    city: str\n",
    "    zip_code: int\n",
    "\n",
    "class Customer(BaseModel):\n",
    "    customer_id: int\n",
    "    name: str\n",
    "    address: Address # Nested\n",
    "\n",
    "customer = Customer(\n",
    "    customer_id = 1,\n",
    "    name = \"Emma\",\n",
    "    address = {\"street\": \"123 Main Str\", \"city\": \"Chennai\", \"zip_code\": \"0600001\"}\n",
    ")\n",
    "\n",
    "print(customer)\n"
   ]
  },
  {
   "cell_type": "markdown",
   "id": "da6cb8dd",
   "metadata": {},
   "source": [
    "### PYDANTIC FIELDS: CUSTOMIZATION AND CONSTRAINTS"
   ]
  },
  {
   "cell_type": "code",
   "execution_count": 27,
   "id": "ff3efeef",
   "metadata": {},
   "outputs": [
    {
     "name": "stdout",
     "output_type": "stream",
     "text": [
      "name='Book' price=23.6 quantity=10\n"
     ]
    }
   ],
   "source": [
    "from pydantic import BaseModel, Field\n",
    "\n",
    "class Item(BaseModel):\n",
    "    name: str=Field(min_length=2, max_length=50)\n",
    "    price: float=Field(gt=0, le=1000)\n",
    "    quantity: int=Field(ge=0)\n",
    "\n",
    "item = Item(name=\"Book\", price=023.6, quantity = 10)\n",
    "print(item)"
   ]
  },
  {
   "cell_type": "code",
   "execution_count": 28,
   "id": "7bf96074",
   "metadata": {},
   "outputs": [
    {
     "name": "stdout",
     "output_type": "stream",
     "text": [
      "username='alice' age=18 email='user@example.com'\n",
      "username='bob' age=25 email='bob@domain.com'\n"
     ]
    }
   ],
   "source": [
    "class User(BaseModel):\n",
    "    username: str = Field(..., decription=\"Unique username for the user\")\n",
    "    age: int = Field(default=18, description=\"User age, default to 18\")\n",
    "    email: str = Field(default_factory=lambda:\"user@example.com\", decription=\"Default email address\")\n",
    "\n",
    "user1 = User(username=\"alice\")\n",
    "print(user1)\n",
    "\n",
    "user2 = User(username=\"bob\", age=25, email=\"bob@domain.com\")\n",
    "print(user2)"
   ]
  },
  {
   "cell_type": "code",
   "execution_count": 29,
   "id": "b25e205b",
   "metadata": {},
   "outputs": [
    {
     "name": "stdout",
     "output_type": "stream",
     "text": [
      "{'properties': {'username': {'decription': 'Unique username for the user', 'title': 'Username', 'type': 'string'}, 'age': {'default': 18, 'description': 'User age, default to 18', 'title': 'Age', 'type': 'integer'}, 'email': {'decription': 'Default email address', 'title': 'Email', 'type': 'string'}}, 'required': ['username'], 'title': 'User', 'type': 'object'}\n"
     ]
    },
    {
     "name": "stderr",
     "output_type": "stream",
     "text": [
      "C:\\Users\\prana\\AppData\\Local\\Temp\\ipykernel_23244\\275923770.py:1: PydanticDeprecatedSince20: The `schema` method is deprecated; use `model_json_schema` instead. Deprecated in Pydantic V2.0 to be removed in V3.0. See Pydantic V2 Migration Guide at https://errors.pydantic.dev/2.11/migration/\n",
      "  print(User.schema())\n"
     ]
    }
   ],
   "source": [
    "print(User.schema())"
   ]
  },
  {
   "cell_type": "code",
   "execution_count": 30,
   "id": "d970df13",
   "metadata": {},
   "outputs": [
    {
     "name": "stdout",
     "output_type": "stream",
     "text": [
      "{'properties': {'username': {'decription': 'Unique username for the user', 'title': 'Username', 'type': 'string'}, 'age': {'default': 18, 'description': 'User age, default to 18', 'title': 'Age', 'type': 'integer'}, 'email': {'decription': 'Default email address', 'title': 'Email', 'type': 'string'}}, 'required': ['username'], 'title': 'User', 'type': 'object'}\n"
     ]
    }
   ],
   "source": [
    "print(User.model_json_schema())"
   ]
  },
  {
   "cell_type": "code",
   "execution_count": null,
   "id": "79643ab4",
   "metadata": {},
   "outputs": [],
   "source": []
  }
 ],
 "metadata": {
  "kernelspec": {
   "display_name": "test",
   "language": "python",
   "name": "python3"
  },
  "language_info": {
   "codemirror_mode": {
    "name": "ipython",
    "version": 3
   },
   "file_extension": ".py",
   "mimetype": "text/x-python",
   "name": "python",
   "nbconvert_exporter": "python",
   "pygments_lexer": "ipython3",
   "version": "3.10.18"
  }
 },
 "nbformat": 4,
 "nbformat_minor": 5
}
