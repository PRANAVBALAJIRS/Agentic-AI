{
 "cells": [
  {
   "cell_type": "code",
   "execution_count": 3,
   "id": "21aee86f",
   "metadata": {},
   "outputs": [],
   "source": [
    "from langchain_community.tools import ArxivQueryRun, WikipediaQueryRun\n",
    "from langchain_community.utilities import WikipediaAPIWrapper, ArxivAPIWrapper"
   ]
  },
  {
   "cell_type": "code",
   "execution_count": 5,
   "id": "9e50ce05",
   "metadata": {},
   "outputs": [
    {
     "name": "stdout",
     "output_type": "stream",
     "text": [
      "arxiv\n"
     ]
    }
   ],
   "source": [
    "api_wrapper_arxiv = ArxivAPIWrapper(top_k_results=2, doc_content_chars_max=500)\n",
    "arxiv = ArxivQueryRun(api_wrapper=api_wrapper_arxiv, description=\"Query arxiv papers\")\n",
    "print(arxiv.name)"
   ]
  },
  {
   "cell_type": "code",
   "execution_count": 6,
   "id": "17c5ae0a",
   "metadata": {},
   "outputs": [
    {
     "data": {
      "text/plain": [
       "\"Published: 2024-07-22\\nTitle: Attention Is All You Need But You Don't Need All Of It For Inference of Large Language Models\\nAuthors: Georgy Tyukin, Gbetondji J-S Dovonon, Jean Kaddour, Pasquale Minervini\\nSummary: The inference demand for LLMs has skyrocketed in recent months, and serving\\nmodels with low latencies remains challenging due to the quadratic input length\\ncomplexity of the attention layers. In this work, we investigate the effect of\\ndropping MLP and attention layers at inference time o\""
      ]
     },
     "execution_count": 6,
     "metadata": {},
     "output_type": "execute_result"
    }
   ],
   "source": [
    "arxiv.invoke(\"Attention is all you need\")"
   ]
  },
  {
   "cell_type": "code",
   "execution_count": 7,
   "id": "cedcc33f",
   "metadata": {},
   "outputs": [
    {
     "name": "stdout",
     "output_type": "stream",
     "text": [
      "wikipedia\n"
     ]
    }
   ],
   "source": [
    "api_wrapper_wiki = WikipediaAPIWrapper(top_k_results=1, doc_content_chars_max=500)\n",
    "wiki = WikipediaQueryRun(api_wrapper=api_wrapper_wiki)\n",
    "print(wiki.name)"
   ]
  },
  {
   "cell_type": "code",
   "execution_count": 8,
   "id": "eabd9ed9",
   "metadata": {},
   "outputs": [
    {
     "data": {
      "text/plain": [
       "'Page: Sachin Tendulkar\\nSummary: Sachin Ramesh Tendulkar ( ; Marathi: [sətɕin t̪eɳɖulkəɾ]; born 24 April 1973) is an Indian former international cricketer who captained the Indian national team. He is widely regarded as one of the greatest cricketers of all time, and is the holder of several world records, including being the all-time highest run-scorer in both ODI and Test cricket, receiving the most player of the match awards in international cricket, and being the only batsman to score 100 int'"
      ]
     },
     "execution_count": 8,
     "metadata": {},
     "output_type": "execute_result"
    }
   ],
   "source": [
    "wiki.invoke(\"Sachin Tendulkar\")"
   ]
  },
  {
   "cell_type": "code",
   "execution_count": 9,
   "id": "1260e7e3",
   "metadata": {},
   "outputs": [],
   "source": [
    "from dotenv import load_dotenv\n",
    "load_dotenv()\n",
    "\n",
    "import os\n",
    "os.environ[\"TAVILY_API_KEY\"] = os.getenv(\"TAVILY_API_KEY\")\n",
    "os.environ[\"GROQ_API_KEY\"] = os.getenv(\"GROQ_API_KEY\")"
   ]
  },
  {
   "cell_type": "code",
   "execution_count": 10,
   "id": "e173c44a",
   "metadata": {},
   "outputs": [
    {
     "name": "stderr",
     "output_type": "stream",
     "text": [
      "C:\\Users\\prana\\AppData\\Local\\Temp\\ipykernel_31664\\1535493036.py:2: LangChainDeprecationWarning: The class `TavilySearchResults` was deprecated in LangChain 0.3.25 and will be removed in 1.0. An updated version of the class exists in the :class:`~langchain-tavily package and should be used instead. To use it run `pip install -U :class:`~langchain-tavily` and import as `from :class:`~langchain_tavily import TavilySearch``.\n",
      "  tavily = TavilySearchResults()\n"
     ]
    }
   ],
   "source": [
    "from langchain_community.tools.tavily_search import TavilySearchResults\n",
    "tavily = TavilySearchResults()"
   ]
  },
  {
   "cell_type": "code",
   "execution_count": 11,
   "id": "03e0890c",
   "metadata": {},
   "outputs": [
    {
     "data": {
      "text/plain": [
       "[{'title': 'Latest AI Breakthroughs and News: May, June, July 2025',\n",
       "  'url': 'https://www.crescendo.ai/news/latest-ai-news-and-updates',\n",
       "  'content': \"Summary: OpenAI and SoftBank are planning to build a small data center by the end of 2025 to support the Stargate AI initiative . The project aims to explore more energy-efficient AI infrastructure at localized scales. Sources suggest this could serve as a pilot for SoftBank's larger $1 trillion “Crystal Land” AI hub.\",\n",
       "  'score': 0.67347145},\n",
       " {'title': 'AI News & Artificial Intelligence | TechCrunch',\n",
       "  'url': 'https://techcrunch.com/category/artificial-intelligence/',\n",
       "  'content': 'Digital generated image of abstract AI data chat icons flying over digital surface with codes\\n\\n### Gupshup raises $60M in equity and debt, leaves unicorn status hanging\\n\\n### Amazon acquires Bee, the AI wearable that records everything you say\\n\\nLarry Ellison, chairman of Oracle Corp.\\n\\n### OpenAI agreed to pay Oracle $30B a year for data center services\\n\\narray of iPhones\\n\\n### iOS 26 beta 4 arrives, with Liquid Glass tweaks and AI news summaries\\n\\nTechCrunch Sessions: Robotics DARPA [...] ### This startup thinks email could be the key to usable AI agents\\n\\nDr. Simon Kohl, CEO and founder of Latent Labs\\n\\n### Latent Labs launches web-based AI model to democratize protein design\\n\\nBlue glowing futuristic semiconductor and circuit board.\\n\\n### Instead of selling to Meta, AI chip startup FuriosaAI signed a huge customer\\n\\nmath equations on a chalkboard\\n\\n### OpenAI and Google outdo the mathletes, but not each other [...] ### Anduril alums raise $24M Series A to bring military logistics out of the Excel spreadsheet era\\n\\n### Don’t miss your chance to exhibit at TechCrunch Disrupt 2025\\n\\nDia Hero\\n\\n### Dia launches a skill gallery, Perplexity to add tasks to Comet\\n\\nCartken Hauler robot\\n\\n### Why Cartken pivoted its focus from last-mile delivery to industrial robots\\n\\nCognition CEO announces the acquisition of Windsurf\\n\\n### Windsurf CEO opens up about ‘very bleak’ mood before Cognition deal',\n",
       "  'score': 0.6551821},\n",
       " {'title': 'From Hype to Reality: 5 AI Breakthroughs of July 2025 Transforming ...',\n",
       "  'url': 'https://medium.com/@rana.ash1997/from-hype-to-reality-5-ai-breakthroughs-of-july-2025-transforming-engineering-devops-bacb49e15fc4',\n",
       "  'content': '# 5. The AI Arms Race Accelerates: Billions Poured into Infrastructure & Talent\\n\\nThe competition among tech giants is heating up in a way I haven’t seen since the early cloud wars, and they’re throwing hundreds of billions of dollars at AI infrastructure and talent acquisition. It’s truly staggering. [...] # My Two Cents 💡\\n\\nThis past month has truly underscored that AI isn’t a separate discipline; it’s rapidly becoming the foundational layer of software engineering. For us in DevOps, this means our role isn’t just evolving; it’s undergoing a fundamental transformation. We’re not just deploying applications; we’re orchestrating intelligent systems. We’re not just managing infrastructure; we’re enabling AI agents to interact with it autonomously. [...] # 4. AI Governance and Regulation Maturing: The EU AI Act Takes Hold\\n\\nAs AI gets more powerful, the conversation around ethical use, bias, and regulation becomes paramount. Frankly, it’s about time. July has shown a clear acceleration in this space, which is a good thing for everyone.\\n\\nAI ethics and regulation are becoming as critical as the technology itself.',\n",
       "  'score': 0.6188962},\n",
       " {'title': '50 NEW Artificial Intelligence Statistics (July 2025) - Exploding Topics',\n",
       "  'url': 'https://explodingtopics.com/blog/ai-statistics',\n",
       "  'content': \"And 42% are considering AI adoption in the near future.\\n\\n#### Global AI is growing at a CAGR of almost 40% (Grand View Research)\\n\\nAI's recent rapid growth is unlikely to slow down in the near future.\\n\\nIn fact, global AI adoption by organizations is set to expand at a CAGR of 35.9% between 2025 and 2030.\\n\\nbar chart showing AI investment plans\\n\\nbar chart showing AI investment plans\\n\\n#### The wearable AI market is expected to reach $180 billion this year (Global Market Insights) [...] #### AI algorithms increase leads by as much as 50% (Harvard Business Review)\\n\\nAI algorithms reveal data on which products generate the highest profit margins and offer valuable insight into a client's purchasing habits.\\n\\nRecent data shows that using AI for sales:\\n\\n#### Around 4 in 10 marketers believe that AI email marketing improves market revenue (Statista)\\n\\nIn total, 41.29% of marketers agree that using AI for email marketing generates higher market revenue. [...] The prevalence of chatbots is increasing. And so is people's willingness to turn to them – 80% of people will use a chatbot if presented with the chance, even though many won't actively seek them out.\\n\\n#### AI tech is expected to increase banking industry revenue by $1 billion between 2023 and 2026 (Accenture)\\n\\nBy next year, AI technology will have added $1 billion to the banking industry.\\n\\n#### Around 2 in 5 medical professionals now use computer systems to aid diagnosis (Gartner)\",\n",
       "  'score': 0.59089786},\n",
       " {'title': 'Artificial Intelligence | Latest News, Photos & Videos - WIRED',\n",
       "  'url': 'https://www.wired.com/tag/artificial-intelligence/',\n",
       "  'content': \"### This Cute AI Robot Offers Company to Lonely Older Folks\\n\\nTrump and the Energy Industry Are Eager to Power AI With Fossil Fuels\\n\\n### Trump and the Energy Industry Are Eager to Power AI With Fossil Fuels\\n\\nFormer Top Google Researchers Have Made a New Kind of AI Agent\\n\\n### Former Top Google Researchers Have Made a New Kind of AI Agent\\n\\nAnother High-Profile OpenAI Researcher Departs for Meta\\n\\n### Another High-Profile OpenAI Researcher Departs for Meta [...] I Tried Grok’s Built-In Anime Companion and It Called Me a Twat\\n\\n### I Tried Grok’s Built-In Anime Companion and It Called Me a Twat\\n\\nThinking Machines Lab Raises a Record $2 Billion, Announces Cofounders\\n\\n### Thinking Machines Lab Raises a Record $2 Billion, Announces Cofounders\\n\\nAI 'Nudify' Websites Are Raking in Millions of Dollars\\n\\n### AI 'Nudify' Websites Are Raking in Millions of Dollars\\n\\nMicrosoft and OpenAI's AGI Fight Is Bigger Than a Contract [...] OpenAI’s ChatGPT Agent Is Haunting My Browser\\n\\n### OpenAI’s ChatGPT Agent Is Haunting My Browser\\n\\nLeaked Memo: Anthropic CEO Says the Company Will Pursue Gulf State Investments After All\\n\\n### Leaked Memo: Anthropic CEO Says the Company Will Pursue Gulf State Investments After All\\n\\nOpenAI's New CEO of Applications Strikes Hyper-Optimistic Tone in First Memo to Staff\\n\\n### OpenAI's New CEO of Applications Strikes Hyper-Optimistic Tone in First Memo to Staff\\n\\nBryan Johnson Is Going to Die\",\n",
       "  'score': 0.5482629}]"
      ]
     },
     "execution_count": 11,
     "metadata": {},
     "output_type": "execute_result"
    }
   ],
   "source": [
    "tavily.invoke(\"Provide me the recent AI News\")"
   ]
  },
  {
   "cell_type": "code",
   "execution_count": 12,
   "id": "c37d40f5",
   "metadata": {},
   "outputs": [],
   "source": [
    "tools = [arxiv, wiki, tavily]"
   ]
  },
  {
   "cell_type": "code",
   "execution_count": 19,
   "id": "c80194ba",
   "metadata": {},
   "outputs": [],
   "source": [
    "from langchain_groq import ChatGroq\n",
    "llm = ChatGroq(model=\"qwen/qwen3-32b\")"
   ]
  },
  {
   "cell_type": "code",
   "execution_count": 20,
   "id": "5f7bbe53",
   "metadata": {},
   "outputs": [
    {
     "data": {
      "text/plain": [
       "AIMessage(content='<think>\\nOkay, the user is asking what AI is. Let me start by defining it in a simple way. AI stands for Artificial Intelligence, which is the simulation of human intelligence in machines. I should mention the key areas like learning, reasoning, problem-solving, perception, and language understanding.\\n\\nI need to explain that AI can be narrow or general. Most current AI is narrow, focused on specific tasks like image recognition or language translation. General AI, which can handle any intellectual task a human can, doesn\\'t exist yet. Maybe give examples of existing AI applications, such as virtual assistants, recommendation systems, or self-driving cars.\\n\\nAlso, it\\'s important to note the different techniques used in AI, like machine learning and deep learning. Maybe explain that machine learning involves algorithms improving at tasks with experience, and deep learning uses neural networks inspired by the human brain.\\n\\nI should mention the history a bit, like when AI was first proposed, maybe the Dartmouth Conference in 1956. Then talk about the recent advancements due to big data and computing power.\\n\\nPotential applications and ethical considerations could be worth touching on briefly. Users might be interested in how AI affects society, jobs, privacy, etc. But since the question is \"what is AI,\" maybe keep it focused unless the user asks for more.\\n\\nCheck if there are any common misconceptions to address, like AI being a replacement for humans in all areas. Emphasize that current AI is task-specific and lacks human-like consciousness.\\n\\nMake sure the explanation is clear and not too technical. Avoid jargon or explain it when used. Use examples people are familiar with to illustrate points.\\n\\nWait, the user might be a student, a professional in another field, or just someone curious. Tailor the answer to be accessible but informative. Maybe start with a straightforward definition, then break down the components, types, and applications.\\n\\nAlso, consider mentioning key terms like supervised learning, unsupervised learning, reinforcement learning if relevant. But don\\'t go too deep unless necessary.\\n\\nDouble-check for accuracy. Ensure that the distinction between narrow and general AI is correct. Also, confirm that the examples given are accurate representations of AI applications.\\n\\nFinally, summarize the key points to reinforce the understanding. Maybe end with a note on the ongoing research and future potential of AI.\\n</think>\\n\\nArtificial Intelligence (AI) refers to the development of computer systems capable of performing tasks that typically require human intelligence. These tasks include learning from experience, reasoning, problem-solving, understanding natural language, recognizing patterns, and making decisions. AI systems are designed to simulate human cognitive functions, though they operate through algorithms, data, and computational power.\\n\\n### Key Concepts:\\n1. **Core Areas of AI**:\\n   - **Machine Learning (ML)**: A subset of AI where systems learn patterns from data without being explicitly programmed. ML algorithms improve their performance as they are exposed to more data over time.\\n   - **Deep Learning**: A specialized form of ML that uses neural networks with multiple layers (inspired by the human brain) to analyze complex data, such as images, speech, or text.\\n   - **Natural Language Processing (NLP)**: Enables machines to understand, interpret, and generate human language (e.g., chatbots, translation tools).\\n   - **Computer Vision**: Allows machines to interpret and process visual information from the world (e.g., facial recognition, object detection).\\n\\n2. **Types of AI**:\\n   - **Narrow AI (Weak AI)**: Designed for specific tasks. Examples include virtual assistants (e.g., Siri), recommendation systems (e.g., Netflix), and spam filters. Most current AI systems are narrow.\\n   - **General AI (Strong AI)**: A hypothetical AI that can perform *any* intellectual task a human can. This remains a theoretical goal and has not yet been achieved.\\n\\n3. **Applications**:\\n   - **Healthcare**: Diagnosing diseases, drug discovery, personalized treatment.\\n   - **Finance**: Fraud detection, algorithmic trading, risk management.\\n   - **Transportation**: Self-driving cars, traffic optimization.\\n   - **Customer Service**: Chatbots, virtual agents.\\n   - **Entertainment**: Content recommendation, game AI.\\n   - **Manufacturing**: Predictive maintenance, robotics.\\n\\n4. **How AI Works**:\\n   - **Data**: AI systems rely on large datasets to train models. The quality and quantity of data directly impact performance.\\n   - **Algorithms**: Mathematical models (e.g., decision trees, neural networks) process data to identify patterns and make predictions.\\n   - **Feedback**: Systems improve through iterative learning, adjusting their parameters based on results (e.g., reinforcement learning).\\n\\n5. **Ethical and Societal Considerations**:\\n   - **Bias**: AI can inherit biases present in training data, leading to unfair outcomes.\\n   - **Privacy**: Data used for AI may raise concerns about surveillance and consent.\\n   - **Job Displacement**: Automation could impact certain industries, though it may also create new roles.\\n   - **Regulation**: Governments and organizations are working to establish ethical guidelines and legal frameworks for AI use.\\n\\n### History and Evolution:\\n- **1950s–1970s**: Theoretical foundations laid by pioneers like Alan Turing and John McCarthy. The term \"AI\" was coined in 1956 at the Dartmouth Conference.\\n- **1980s–1990s**: Expert systems and rule-based AI gained traction, but limitations in data and computing power hindered progress.\\n- **2000s–Present**: Explosive growth due to big data, improved algorithms (e.g., deep learning), and increased computational power. Breakthroughs include AlphaGo (AI defeating a human in the game of Go) and large language models like GPT.\\n\\n### Limitations of Current AI:\\n- **Lack of Common Sense**: AI systems often lack real-world understanding and context.\\n- **Transparency**: Many AI models (especially deep learning) operate as \"black boxes,\" making their decision-making process hard to interpret.\\n- **Dependency on Data**: AI requires vast amounts of high-quality data to function effectively.\\n\\n### Future Directions:\\n- **General AI**: Researchers continue to explore whether AI can achieve human-like adaptability and reasoning.\\n- **AI for Social Good**: Addressing global challenges like climate change, education, and disaster response.\\n- **Human-AI Collaboration**: Enhancing human capabilities rather than replacing them (e.g., AI-assisted creativity, decision-making support).\\n\\nIn summary, AI is a transformative technology reshaping industries and daily life. While it offers immense potential, its development requires careful attention to ethical, technical, and societal challenges.', additional_kwargs={}, response_metadata={'token_usage': {'completion_tokens': 1359, 'prompt_tokens': 11, 'total_tokens': 1370, 'completion_time': 3.427401642, 'prompt_time': 0.000260987, 'queue_time': 0.050639803000000004, 'total_time': 3.427662629}, 'model_name': 'qwen/qwen3-32b', 'system_fingerprint': 'fp_f17c2eb555', 'service_tier': 'on_demand', 'finish_reason': 'stop', 'logprobs': None}, id='run--f1117ac4-5e0c-4586-89cb-d88d8b406766-0', usage_metadata={'input_tokens': 11, 'output_tokens': 1359, 'total_tokens': 1370})"
      ]
     },
     "execution_count": 20,
     "metadata": {},
     "output_type": "execute_result"
    }
   ],
   "source": [
    "llm.invoke(\"What is AI\")"
   ]
  },
  {
   "cell_type": "code",
   "execution_count": 21,
   "id": "3057cb12",
   "metadata": {},
   "outputs": [],
   "source": [
    "llm_with_tools = llm.bind_tools(tools=tools)"
   ]
  },
  {
   "cell_type": "code",
   "execution_count": 22,
   "id": "28be5f38",
   "metadata": {},
   "outputs": [
    {
     "data": {
      "text/plain": [
       "AIMessage(content='', additional_kwargs={'reasoning_content': 'Okay, the user is asking for recent news on AI. Let me see which tool I should use here. The available tools are arxiv, wikipedia, and tavily_search_results_json.\\n\\nArxiv is for academic papers, so maybe not the best choice for news. Wikipedia might have general information but not the latest news. Tavily_search_results_json sounds like a search engine that can fetch recent news articles. That\\'s probably the right tool here. I\\'ll use tavily_search_results_json with the query \"recent news on AI\" to get the latest updates.\\n', 'tool_calls': [{'id': '5vhbker4h', 'function': {'arguments': '{\"query\":\"recent news on AI\"}', 'name': 'tavily_search_results_json'}, 'type': 'function'}]}, response_metadata={'token_usage': {'completion_tokens': 145, 'prompt_tokens': 267, 'total_tokens': 412, 'completion_time': 0.275583815, 'prompt_time': 0.010841926, 'queue_time': 0.055489834, 'total_time': 0.286425741}, 'model_name': 'qwen/qwen3-32b', 'system_fingerprint': 'fp_f17c2eb555', 'service_tier': 'on_demand', 'finish_reason': 'tool_calls', 'logprobs': None}, id='run--90fd8a96-6d98-40e8-98fd-fd7eb453f6df-0', tool_calls=[{'name': 'tavily_search_results_json', 'args': {'query': 'recent news on AI'}, 'id': '5vhbker4h', 'type': 'tool_call'}], usage_metadata={'input_tokens': 267, 'output_tokens': 145, 'total_tokens': 412})"
      ]
     },
     "execution_count": 22,
     "metadata": {},
     "output_type": "execute_result"
    }
   ],
   "source": [
    "llm_with_tools.invoke(\"What is the recent news on AI\")"
   ]
  },
  {
   "cell_type": "code",
   "execution_count": 23,
   "id": "29c6d33b",
   "metadata": {},
   "outputs": [],
   "source": [
    "from typing import TypedDict\n",
    "from langchain_core.messages import AnyMessage\n",
    "from typing import Annotated\n",
    "from langgraph.graph.message import add_messages"
   ]
  },
  {
   "cell_type": "code",
   "execution_count": 24,
   "id": "f47e8c8f",
   "metadata": {},
   "outputs": [],
   "source": [
    "class State(TypedDict):\n",
    "    messages: Annotated[list[AnyMessage], add_messages]"
   ]
  },
  {
   "cell_type": "code",
   "execution_count": 26,
   "id": "3cc92f44",
   "metadata": {},
   "outputs": [],
   "source": [
    "from langgraph.graph import StateGraph, START, END\n",
    "from langgraph.prebuilt import ToolNode, tools_condition\n",
    "from IPython.display import Image, display"
   ]
  },
  {
   "cell_type": "code",
   "execution_count": 30,
   "id": "b140ca33",
   "metadata": {},
   "outputs": [
    {
     "data": {
      "text/plain": [
       "<langgraph.graph.state.StateGraph at 0x12d71007d30>"
      ]
     },
     "execution_count": 30,
     "metadata": {},
     "output_type": "execute_result"
    }
   ],
   "source": [
    "def tool_calling_llm(state: State):\n",
    "    return{\"messages\":[llm_with_tools.invoke(state[\"messages\"])]}\n",
    "\n",
    "builder = StateGraph(State)\n",
    "\n",
    "builder.add_node(\"tool_calling_llm\", tool_calling_llm)\n",
    "builder.add_node(\"tools\", ToolNode(tools))\n",
    "\n",
    "builder.add_edge(START, \"tool_calling_llm\")\n",
    "builder.add_conditional_edges(\"tool_calling_llm\", tools_condition)\n",
    "\n",
    "builder.add_edge(\"tools\", END)"
   ]
  },
  {
   "cell_type": "code",
   "execution_count": 31,
   "id": "29537866",
   "metadata": {},
   "outputs": [],
   "source": [
    "graph = builder.compile()"
   ]
  },
  {
   "cell_type": "code",
   "execution_count": 32,
   "id": "2c05e600",
   "metadata": {},
   "outputs": [
    {
     "data": {
      "image/png": "[encoded data removed]",
      "text/plain": [
       "<IPython.core.display.Image object>"
      ]
     },
     "metadata": {},
     "output_type": "display_data"
    }
   ],
   "source": [
    "display(Image(graph.get_graph().draw_mermaid_png()))"
   ]
  },
  {
   "cell_type": "code",
   "execution_count": 33,
   "id": "8616e7fd",
   "metadata": {},
   "outputs": [
    {
     "name": "stdout",
     "output_type": "stream",
     "text": [
      "================================\u001b[1m Human Message \u001b[0m=================================\n",
      "\n",
      "1706.03762\n",
      "==================================\u001b[1m Ai Message \u001b[0m==================================\n",
      "Tool Calls:\n",
      "  arxiv (6nx2r4wvj)\n",
      " Call ID: 6nx2r4wvj\n",
      "  Args:\n",
      "    query: 1706.03762\n",
      "=================================\u001b[1m Tool Message \u001b[0m=================================\n",
      "Name: arxiv\n",
      "\n",
      "Published: 2023-08-02\n",
      "Title: Attention Is All You Need\n",
      "Authors: Ashish Vaswani, Noam Shazeer, Niki Parmar, Jakob Uszkoreit, Llion Jones, Aidan N. Gomez, Lukasz Kaiser, Illia Polosukhin\n",
      "Summary: The dominant sequence transduction models are based on complex recurrent or\n",
      "convolutional neural networks in an encoder-decoder configuration. The best\n",
      "performing models also connect the encoder and decoder through an attention\n",
      "mechanism. We propose a new simple network architecture, the Transformer, base\n"
     ]
    }
   ],
   "source": [
    "messages = graph.invoke({\"messages\": \"1706.03762\"})\n",
    "for m in messages['messages']:\n",
    "    m.pretty_print()"
   ]
  },
  {
   "cell_type": "code",
   "execution_count": 34,
   "id": "4532442f",
   "metadata": {},
   "outputs": [],
   "source": [
    "builder = StateGraph(State)\n",
    "\n",
    "builder.add_node(\"tool_calling_llm\", tool_calling_llm)\n",
    "builder.add_node(\"tools\", ToolNode(tools))\n",
    "\n",
    "builder.add_edge(START, \"tool_calling_llm\")\n",
    "builder.add_conditional_edges(\"tool_calling_llm\", tools_condition)\n",
    "\n",
    "builder.add_edge(\"tools\", \"tool_calling_llm\")\n",
    "\n",
    "graph = builder.compile()"
   ]
  },
  {
   "cell_type": "code",
   "execution_count": 35,
   "id": "d767dedd",
   "metadata": {},
   "outputs": [
    {
     "data": {
      "image/png": "[encoded data removed]",
      "text/plain": [
       "<IPython.core.display.Image object>"
      ]
     },
     "metadata": {},
     "output_type": "display_data"
    }
   ],
   "source": [
    "display(Image(graph.get_graph().draw_mermaid_png()))"
   ]
  },
  {
   "cell_type": "code",
   "execution_count": 37,
   "id": "81a17ac4",
   "metadata": {},
   "outputs": [
    {
     "name": "stdout",
     "output_type": "stream",
     "text": [
      "================================\u001b[1m Human Message \u001b[0m=================================\n",
      "\n",
      "Hi my name is Pranav and please tell me the the recent research papers on quantum computing\n",
      "==================================\u001b[1m Ai Message \u001b[0m==================================\n",
      "Tool Calls:\n",
      "  arxiv (kfv732qcj)\n",
      " Call ID: kfv732qcj\n",
      "  Args:\n",
      "    query: quantum computing AND submittedDate:[2023-01-01 TO 2024-01-01]\n",
      "=================================\u001b[1m Tool Message \u001b[0m=================================\n",
      "Name: arxiv\n",
      "\n",
      "Published: 2023-02-24\n",
      "Title: A Uniform Quantum Computing Model Based on Virtual Quantum Processors\n",
      "Authors: George Gesek\n",
      "Summary: Quantum Computers, one fully realized, can represent an exponential boost in\n",
      "computing power. However, the computational power of the current quantum\n",
      "computers, referred to as Noisy Internediate Scale Quantum, or NISQ, is\n",
      "severely limited because of environmental and intrinsic noise, as well as the\n",
      "very low connectivity between qubits compared to their total amount. W\n",
      "==================================\u001b[1m Ai Message \u001b[0m==================================\n",
      "\n",
      "Here's a recent research paper on quantum computing from arXiv:\n",
      "\n",
      "**Title:** A Uniform Quantum Computing Model Based on Virtual Quantum Processors  \n",
      "**Author:** George Gesek  \n",
      "**Published:** February 24, 2023  \n",
      "**Summary:**  \n",
      "This paper proposes a novel quantum computing model addressing challenges in Noisy Intermediate-Scale Quantum (NISQ) systems. The model leverages virtual quantum processors to mitigate issues like environmental noise, qubit connectivity limitations, and computational inefficiency. The approach aims to improve scalability and fault tolerance in quantum computations.\n",
      "\n",
      "The paper discusses how virtualization techniques can abstract hardware-specific constraints, enabling more efficient execution of quantum algorithms. It also explores potential applications and optimizations for future large-scale quantum systems.\n",
      "\n",
      "Would you like me to provide more details or additional papers on this topic?\n"
     ]
    }
   ],
   "source": [
    "messages = graph.invoke({\"messages\": \"Hi my name is Pranav and please tell me the the recent research papers on quantum computing\"})\n",
    "for m in messages['messages']:\n",
    "    m.pretty_print()"
   ]
  },
  {
   "cell_type": "code",
   "execution_count": null,
   "id": "375cdce7",
   "metadata": {},
   "outputs": [],
   "source": []
  }
 ],
 "metadata": {
  "kernelspec": {
   "display_name": "test",
   "language": "python",
   "name": "python3"
  },
  "language_info": {
   "codemirror_mode": {
    "name": "ipython",
    "version": 3
   },
   "file_extension": ".py",
   "mimetype": "text/x-python",
   "name": "python",
   "nbconvert_exporter": "python",
   "pygments_lexer": "ipython3",
   "version": "3.10.18"
  }
 },
 "nbformat": 4,
 "nbformat_minor": 5
}
